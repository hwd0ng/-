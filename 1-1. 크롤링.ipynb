{
 "cells": [
  {
   "cell_type": "markdown",
   "id": "0256a511",
   "metadata": {},
   "source": [
    "### 1. 크롤링 (Crwaling)\n",
    "- 크롤링(Crawling): 인터넷의 데이터를 활용하기 위해 정보들을 분석하고 활용할 수 있도록 수집하는 행위\n",
    "- 스크래이핑(Scraping): 크롤링 + 데이터를 추출하고 가공하는 행위"
   ]
  },
  {
   "cell_type": "markdown",
   "id": "da4887e9",
   "metadata": {},
   "source": [
    "### 2. BasicEnglish"
   ]
  },
  {
   "cell_type": "code",
   "execution_count": 66,
   "id": "8b9b943c-3f03-49fd-81c3-0048816b0a39",
   "metadata": {},
   "outputs": [],
   "source": [
    "import requests\n",
    "from bs4 import BeautifulSoup\n",
    "import time"
   ]
  },
  {
   "cell_type": "code",
   "execution_count": 26,
   "id": "758e3390",
   "metadata": {},
   "outputs": [
    {
     "name": "stdout",
     "output_type": "stream",
     "text": [
      "<Response [200]>\n"
     ]
    }
   ],
   "source": [
    "site = 'https://basicenglishspeaking.com/daily-english-conversation-topics/'\n",
    "request = requests.get(site)\n",
    "print(request)"
   ]
  },
  {
   "cell_type": "code",
   "execution_count": 27,
   "id": "112e517b-5613-46f5-8c41-dcf765abefc1",
   "metadata": {},
   "outputs": [],
   "source": [
    "soup = BeautifulSoup(request.text)  # 파싱하기 위한 객체 만들기"
   ]
  },
  {
   "cell_type": "code",
   "execution_count": 25,
   "id": "9f3bd9ef-246a-4d4d-b9af-9ebec2e77876",
   "metadata": {},
   "outputs": [
    {
     "name": "stdout",
     "output_type": "stream",
     "text": [
      "<div class=\"thrv_wrapper thrv-columns\" style=\"--tcb-col-el-width:792;\"><div class=\"tcb-flex-row tcb--cols--3\"><div class=\"tcb-flex-col\"><div class=\"tcb-col\"><div class=\"thrv_wrapper thrv_text_element\"><p>1. <a class=\"tve-froala\" href=\"https://basicenglishspeaking.com/family/\" style=\"outline: none;\">Family</a><br/>2. <a class=\"tve-froala\" href=\"https://basicenglishspeaking.com/restaurant/\" style=\"outline: none;\">Restaurant</a><br/>3. <a href=\"https://basicenglishspeaking.com/books/\">Books</a><br/>4. <a href=\"https://basicenglishspeaking.com/travel/\">Travel</a><br/>5. <a href=\"https://basicenglishspeaking.com/website/\">Website</a><br/>6. <a href=\"https://basicenglishspeaking.com/accident/\">Accident</a><br/>7. <a class=\"tve-froala\" href=\"https://basicenglishspeaking.com/childhood-memory/\" style=\"outline: none;\">Childhood memory</a><br/>8. <a class=\"tve-froala\" href=\"https://basicenglishspeaking.com/favorite-rooms/\" style=\"outline: none;\">Favorite rooms</a><br/>9. <a href=\"https://basicenglishspeaking.com/presents/\">Presents</a><br/>10. <a class=\"tve-froala\" href=\"https://basicenglishspeaking.com/historical-place/\" style=\"outline: none;\">Historical place</a><br/>11. <a class=\"tve-froala\" href=\"https://basicenglishspeaking.com/newspaper-magazine/\" style=\"outline: none;\">Newspaper/ Magazine</a><br/>12. <a href=\"https://basicenglishspeaking.com/an-event/\">A memorable event</a><br/>13. <a href=\"https://basicenglishspeaking.com/a-subject/\">A favorite subject</a><br/>14. <a href=\"https://basicenglishspeaking.com/a-museum/\">A museum</a><br/>15. <a href=\"https://basicenglishspeaking.com/a-movie/\">A favorite movie</a><br/>16. <a href=\"https://basicenglishspeaking.com/a-foreign-country/\">A foreign country</a><br/>17. <a href=\"https://basicenglishspeaking.com/parties/\">Parties</a><br/>18. <a href=\"https://basicenglishspeaking.com/a-teacher/\">A teacher</a><br/>19. <a href=\"https://basicenglishspeaking.com/a-friend/\">A friend</a><br/>20. <a href=\"https://basicenglishspeaking.com/a-hotel/\">A hotel</a><br/>21. <a href=\"https://basicenglishspeaking.com/a-letter/\">A letter</a><br/>22. <a href=\"https://basicenglishspeaking.com/hobbies/\">Hobbies</a><br/>23. <a href=\"https://basicenglishspeaking.com/music/\">Music</a><br/>24. <a href=\"https://basicenglishspeaking.com/shopping/\">Shopping</a><br/>25. <a href=\"https://basicenglishspeaking.com/holiday/\">Holiday</a></p></div></div></div><div class=\"tcb-flex-col\"><div class=\"tcb-col\"><div class=\"thrv_wrapper thrv_text_element\"><p>26. <a class=\"tve-froala\" href=\"https://basicenglishspeaking.com/animals/\" style=\"outline: none;\">Animals</a><br/>27. <a class=\"tve-froala\" href=\"https://basicenglishspeaking.com/a-practical-skill/\" style=\"outline: none;\">A practical skill</a><br/>28. <a href=\"https://basicenglishspeaking.com/sports/\">Sport</a><br/>29. <a href=\"https://basicenglishspeaking.com/a-school/\">A School</a><br/>30. <a href=\"https://basicenglishspeaking.com/festival/\">Festival</a><br/>31. <a href=\"https://basicenglishspeaking.com/food/\">Food</a><br/>32. <a href=\"https://basicenglishspeaking.com/household-appliance/\">Household appliance</a><br/>33. <a href=\"https://basicenglishspeaking.com/a-music-band/\">A music band</a><br/>34. <a href=\"https://basicenglishspeaking.com/weather/\">Weather</a><br/>35. <a href=\"https://basicenglishspeaking.com/neighbor/\">Neighbor</a><br/>36. <a href=\"https://basicenglishspeaking.com/natural-scenery/\">Natural scenery</a><br/>37. <a href=\"https://basicenglishspeaking.com/outdoor-activities/\">Outdoor activities</a><br/>38. <a href=\"https://basicenglishspeaking.com/law/\">Law</a><br/>39. <a href=\"https://basicenglishspeaking.com/pollution/\">Pollution</a><br/>40. <a href=\"https://basicenglishspeaking.com/traffic-jam/\">Traffic jam</a><br/>41. <a href=\"https://basicenglishspeaking.com/tv-program/\">TV program</a><br/>42. <a href=\"https://basicenglishspeaking.com/architecture-building/\">Architect/ Building</a><br/>43. <a href=\"https://basicenglishspeaking.com/electronic-media/\">Electronic Media</a><br/>44. <a href=\"https://basicenglishspeaking.com/job-career/\">Job/ Career</a><br/>45. <a href=\"https://basicenglishspeaking.com/competition-contest/\">Competition/ contest</a><br/>46. <a href=\"https://basicenglishspeaking.com/a-garden/\">A garden</a><br/>47. <a href=\"https://basicenglishspeaking.com/hometown/\">Hometown</a><br/>48. <a href=\"https://basicenglishspeaking.com/clothing/\">Clothing</a><br/>49. <a href=\"https://basicenglishspeaking.com/an-advertisement/\">Advertisement</a><br/>50. <a href=\"https://basicenglishspeaking.com/a-project/\">A project</a></p></div></div></div><div class=\"tcb-flex-col\"><div class=\"tcb-col\"><div class=\"thrv_wrapper thrv_text_element\"><p>51. <a href=\"https://basicenglishspeaking.com/a-wedding/\">A wedding</a><br/>52. <a href=\"https://basicenglishspeaking.com/a-coffee-shop/\">A Coffee shop</a><br/>53. <a href=\"https://basicenglishspeaking.com/culture/\">Culture</a><br/>54. <a href=\"https://basicenglishspeaking.com/transport/\">Transport</a><br/>55. <a href=\"https://basicenglishspeaking.com/politician/\">Politician</a><br/>56. <a href=\"https://basicenglishspeaking.com/communication/\">Communication</a><br/>57. <a href=\"https://basicenglishspeaking.com/business/\">Business</a><br/>58. <a href=\"https://basicenglishspeaking.com/computer/\">Computer</a><br/>59. <a href=\"https://basicenglishspeaking.com/exercise/\">Exercise</a><br/>60. <a href=\"https://basicenglishspeaking.com/goal-ambition/\">Goal/ ambition</a><br/>61. <a href=\"https://basicenglishspeaking.com/art/\">Art</a><br/>62. <a href=\"https://basicenglishspeaking.com/fashion/\">Fashion</a><br/>63. <a href=\"https://basicenglishspeaking.com/jewelry/\">Jewelry</a><br/>64. <a href=\"https://basicenglishspeaking.com/cosmetic/\">Cosmetic</a><br/>65. <a href=\"https://basicenglishspeaking.com/indoor-game/\">Indoor Game</a><br/>66. <a href=\"https://basicenglishspeaking.com/phone-conversation/\">Phone conversation</a><br/>67. <a href=\"https://basicenglishspeaking.com/learning-second-language/\">Learning A Second language</a><br/>68. <a href=\"https://basicenglishspeaking.com/a-creative-person/\">A Creative Person</a><br/>69. <a href=\"https://basicenglishspeaking.com/a-celebrity/\">A celebrity</a><br/>70. <a href=\"https://basicenglishspeaking.com/a-health-problem/\">A Health Problem</a><br/>71. <a href=\"https://basicenglishspeaking.com/technological-advancements/\">Technological advancements</a><br/>72. <a href=\"https://basicenglishspeaking.com/a-landmark/\">A Landmark</a><br/>73. <a href=\"https://basicenglishspeaking.com/handcraft-items/\">Handcraft Items</a><br/>74. <a href=\"https://basicenglishspeaking.com/plastic-surgery/\">Plastic Surgery</a><br/>75. <a href=\"https://basicenglishspeaking.com/success/\">Success</a></p></div></div></div></div></div>\n"
     ]
    }
   ],
   "source": [
    "divs = soup.find('div', {'class':'thrv-columns'})\n",
    "print(divs)"
   ]
  },
  {
   "cell_type": "code",
   "execution_count": 17,
   "id": "63af3288-15f0-4c9b-a415-d4e3d1481a95",
   "metadata": {},
   "outputs": [
    {
     "name": "stdout",
     "output_type": "stream",
     "text": [
      "[<a class=\"tve-froala\" href=\"https://basicenglishspeaking.com/family/\" style=\"outline: none;\">Family</a>, <a class=\"tve-froala\" href=\"https://basicenglishspeaking.com/restaurant/\" style=\"outline: none;\">Restaurant</a>, <a href=\"https://basicenglishspeaking.com/books/\">Books</a>, <a href=\"https://basicenglishspeaking.com/travel/\">Travel</a>, <a href=\"https://basicenglishspeaking.com/website/\">Website</a>, <a href=\"https://basicenglishspeaking.com/accident/\">Accident</a>, <a class=\"tve-froala\" href=\"https://basicenglishspeaking.com/childhood-memory/\" style=\"outline: none;\">Childhood memory</a>, <a class=\"tve-froala\" href=\"https://basicenglishspeaking.com/favorite-rooms/\" style=\"outline: none;\">Favorite rooms</a>, <a href=\"https://basicenglishspeaking.com/presents/\">Presents</a>, <a class=\"tve-froala\" href=\"https://basicenglishspeaking.com/historical-place/\" style=\"outline: none;\">Historical place</a>, <a class=\"tve-froala\" href=\"https://basicenglishspeaking.com/newspaper-magazine/\" style=\"outline: none;\">Newspaper/ Magazine</a>, <a href=\"https://basicenglishspeaking.com/an-event/\">A memorable event</a>, <a href=\"https://basicenglishspeaking.com/a-subject/\">A favorite subject</a>, <a href=\"https://basicenglishspeaking.com/a-museum/\">A museum</a>, <a href=\"https://basicenglishspeaking.com/a-movie/\">A favorite movie</a>, <a href=\"https://basicenglishspeaking.com/a-foreign-country/\">A foreign country</a>, <a href=\"https://basicenglishspeaking.com/parties/\">Parties</a>, <a href=\"https://basicenglishspeaking.com/a-teacher/\">A teacher</a>, <a href=\"https://basicenglishspeaking.com/a-friend/\">A friend</a>, <a href=\"https://basicenglishspeaking.com/a-hotel/\">A hotel</a>, <a href=\"https://basicenglishspeaking.com/a-letter/\">A letter</a>, <a href=\"https://basicenglishspeaking.com/hobbies/\">Hobbies</a>, <a href=\"https://basicenglishspeaking.com/music/\">Music</a>, <a href=\"https://basicenglishspeaking.com/shopping/\">Shopping</a>, <a href=\"https://basicenglishspeaking.com/holiday/\">Holiday</a>, <a class=\"tve-froala\" href=\"https://basicenglishspeaking.com/animals/\" style=\"outline: none;\">Animals</a>, <a class=\"tve-froala\" href=\"https://basicenglishspeaking.com/a-practical-skill/\" style=\"outline: none;\">A practical skill</a>, <a href=\"https://basicenglishspeaking.com/sports/\">Sport</a>, <a href=\"https://basicenglishspeaking.com/a-school/\">A School</a>, <a href=\"https://basicenglishspeaking.com/festival/\">Festival</a>, <a href=\"https://basicenglishspeaking.com/food/\">Food</a>, <a href=\"https://basicenglishspeaking.com/household-appliance/\">Household appliance</a>, <a href=\"https://basicenglishspeaking.com/a-music-band/\">A music band</a>, <a href=\"https://basicenglishspeaking.com/weather/\">Weather</a>, <a href=\"https://basicenglishspeaking.com/neighbor/\">Neighbor</a>, <a href=\"https://basicenglishspeaking.com/natural-scenery/\">Natural scenery</a>, <a href=\"https://basicenglishspeaking.com/outdoor-activities/\">Outdoor activities</a>, <a href=\"https://basicenglishspeaking.com/law/\">Law</a>, <a href=\"https://basicenglishspeaking.com/pollution/\">Pollution</a>, <a href=\"https://basicenglishspeaking.com/traffic-jam/\">Traffic jam</a>, <a href=\"https://basicenglishspeaking.com/tv-program/\">TV program</a>, <a href=\"https://basicenglishspeaking.com/architecture-building/\">Architect/ Building</a>, <a href=\"https://basicenglishspeaking.com/electronic-media/\">Electronic Media</a>, <a href=\"https://basicenglishspeaking.com/job-career/\">Job/ Career</a>, <a href=\"https://basicenglishspeaking.com/competition-contest/\">Competition/ contest</a>, <a href=\"https://basicenglishspeaking.com/a-garden/\">A garden</a>, <a href=\"https://basicenglishspeaking.com/hometown/\">Hometown</a>, <a href=\"https://basicenglishspeaking.com/clothing/\">Clothing</a>, <a href=\"https://basicenglishspeaking.com/an-advertisement/\">Advertisement</a>, <a href=\"https://basicenglishspeaking.com/a-project/\">A project</a>, <a href=\"https://basicenglishspeaking.com/a-wedding/\">A wedding</a>, <a href=\"https://basicenglishspeaking.com/a-coffee-shop/\">A Coffee shop</a>, <a href=\"https://basicenglishspeaking.com/culture/\">Culture</a>, <a href=\"https://basicenglishspeaking.com/transport/\">Transport</a>, <a href=\"https://basicenglishspeaking.com/politician/\">Politician</a>, <a href=\"https://basicenglishspeaking.com/communication/\">Communication</a>, <a href=\"https://basicenglishspeaking.com/business/\">Business</a>, <a href=\"https://basicenglishspeaking.com/computer/\">Computer</a>, <a href=\"https://basicenglishspeaking.com/exercise/\">Exercise</a>, <a href=\"https://basicenglishspeaking.com/goal-ambition/\">Goal/ ambition</a>, <a href=\"https://basicenglishspeaking.com/art/\">Art</a>, <a href=\"https://basicenglishspeaking.com/fashion/\">Fashion</a>, <a href=\"https://basicenglishspeaking.com/jewelry/\">Jewelry</a>, <a href=\"https://basicenglishspeaking.com/cosmetic/\">Cosmetic</a>, <a href=\"https://basicenglishspeaking.com/indoor-game/\">Indoor Game</a>, <a href=\"https://basicenglishspeaking.com/phone-conversation/\">Phone conversation</a>, <a href=\"https://basicenglishspeaking.com/learning-second-language/\">Learning A Second language</a>, <a href=\"https://basicenglishspeaking.com/a-creative-person/\">A Creative Person</a>, <a href=\"https://basicenglishspeaking.com/a-celebrity/\">A celebrity</a>, <a href=\"https://basicenglishspeaking.com/a-health-problem/\">A Health Problem</a>, <a href=\"https://basicenglishspeaking.com/technological-advancements/\">Technological advancements</a>, <a href=\"https://basicenglishspeaking.com/a-landmark/\">A Landmark</a>, <a href=\"https://basicenglishspeaking.com/handcraft-items/\">Handcraft Items</a>, <a href=\"https://basicenglishspeaking.com/plastic-surgery/\">Plastic Surgery</a>, <a href=\"https://basicenglishspeaking.com/success/\">Success</a>]\n"
     ]
    }
   ],
   "source": [
    "links = divs.findAll('a')  # 앵커 태그만 찾기\n",
    "print(links)"
   ]
  },
  {
   "cell_type": "code",
   "execution_count": 18,
   "id": "194f2829-c917-4895-90d8-683ede3af94f",
   "metadata": {},
   "outputs": [
    {
     "name": "stdout",
     "output_type": "stream",
     "text": [
      "Family\n",
      "Restaurant\n",
      "Books\n",
      "Travel\n",
      "Website\n",
      "Accident\n",
      "Childhood memory\n",
      "Favorite rooms\n",
      "Presents\n",
      "Historical place\n",
      "Newspaper/ Magazine\n",
      "A memorable event\n",
      "A favorite subject\n",
      "A museum\n",
      "A favorite movie\n",
      "A foreign country\n",
      "Parties\n",
      "A teacher\n",
      "A friend\n",
      "A hotel\n",
      "A letter\n",
      "Hobbies\n",
      "Music\n",
      "Shopping\n",
      "Holiday\n",
      "Animals\n",
      "A practical skill\n",
      "Sport\n",
      "A School\n",
      "Festival\n",
      "Food\n",
      "Household appliance\n",
      "A music band\n",
      "Weather\n",
      "Neighbor\n",
      "Natural scenery\n",
      "Outdoor activities\n",
      "Law\n",
      "Pollution\n",
      "Traffic jam\n",
      "TV program\n",
      "Architect/ Building\n",
      "Electronic Media\n",
      "Job/ Career\n",
      "Competition/ contest\n",
      "A garden\n",
      "Hometown\n",
      "Clothing\n",
      "Advertisement\n",
      "A project\n",
      "A wedding\n",
      "A Coffee shop\n",
      "Culture\n",
      "Transport\n",
      "Politician\n",
      "Communication\n",
      "Business\n",
      "Computer\n",
      "Exercise\n",
      "Goal/ ambition\n",
      "Art\n",
      "Fashion\n",
      "Jewelry\n",
      "Cosmetic\n",
      "Indoor Game\n",
      "Phone conversation\n",
      "Learning A Second language\n",
      "A Creative Person\n",
      "A celebrity\n",
      "A Health Problem\n",
      "Technological advancements\n",
      "A Landmark\n",
      "Handcraft Items\n",
      "Plastic Surgery\n",
      "Success\n"
     ]
    }
   ],
   "source": [
    "for link in links:\n",
    "    print(link.text)"
   ]
  },
  {
   "cell_type": "code",
   "execution_count": 19,
   "id": "e3a4be38-f0e9-454f-98d4-ac804486507a",
   "metadata": {},
   "outputs": [],
   "source": [
    "subject = []\n",
    "\n",
    "for link in links:\n",
    "    subject.append(link.text)"
   ]
  },
  {
   "cell_type": "code",
   "execution_count": 20,
   "id": "7210c61c-d803-4407-94f2-ee8eb7c5f120",
   "metadata": {},
   "outputs": [
    {
     "data": {
      "text/plain": [
       "75"
      ]
     },
     "execution_count": 20,
     "metadata": {},
     "output_type": "execute_result"
    }
   ],
   "source": [
    "len(subject)"
   ]
  },
  {
   "cell_type": "code",
   "execution_count": 21,
   "id": "583ab1c6-3f82-4504-8d2d-58f886481fa8",
   "metadata": {},
   "outputs": [
    {
     "name": "stdout",
     "output_type": "stream",
     "text": [
      "총 75 개의 주제를 찾았습니다\n",
      " 1, Family\n",
      " 2, Restaurant\n",
      " 3, Books\n",
      " 4, Travel\n",
      " 5, Website\n",
      " 6, Accident\n",
      " 7, Childhood memory\n",
      " 8, Favorite rooms\n",
      " 9, Presents\n",
      "10, Historical place\n",
      "11, Newspaper/ Magazine\n",
      "12, A memorable event\n",
      "13, A favorite subject\n",
      "14, A museum\n",
      "15, A favorite movie\n",
      "16, A foreign country\n",
      "17, Parties\n",
      "18, A teacher\n",
      "19, A friend\n",
      "20, A hotel\n",
      "21, A letter\n",
      "22, Hobbies\n",
      "23, Music\n",
      "24, Shopping\n",
      "25, Holiday\n",
      "26, Animals\n",
      "27, A practical skill\n",
      "28, Sport\n",
      "29, A School\n",
      "30, Festival\n",
      "31, Food\n",
      "32, Household appliance\n",
      "33, A music band\n",
      "34, Weather\n",
      "35, Neighbor\n",
      "36, Natural scenery\n",
      "37, Outdoor activities\n",
      "38, Law\n",
      "39, Pollution\n",
      "40, Traffic jam\n",
      "41, TV program\n",
      "42, Architect/ Building\n",
      "43, Electronic Media\n",
      "44, Job/ Career\n",
      "45, Competition/ contest\n",
      "46, A garden\n",
      "47, Hometown\n",
      "48, Clothing\n",
      "49, Advertisement\n",
      "50, A project\n",
      "51, A wedding\n",
      "52, A Coffee shop\n",
      "53, Culture\n",
      "54, Transport\n",
      "55, Politician\n",
      "56, Communication\n",
      "57, Business\n",
      "58, Computer\n",
      "59, Exercise\n",
      "60, Goal/ ambition\n",
      "61, Art\n",
      "62, Fashion\n",
      "63, Jewelry\n",
      "64, Cosmetic\n",
      "65, Indoor Game\n",
      "66, Phone conversation\n",
      "67, Learning A Second language\n",
      "68, A Creative Person\n",
      "69, A celebrity\n",
      "70, A Health Problem\n",
      "71, Technological advancements\n",
      "72, A Landmark\n",
      "73, Handcraft Items\n",
      "74, Plastic Surgery\n",
      "75, Success\n"
     ]
    }
   ],
   "source": [
    "print('총', len(subject), '개의 주제를 찾았습니다')\n",
    "for i in range(len(subject)):\n",
    "    print('{0:2d}, {1:s}'.format(i+1, subject[i]))"
   ]
  },
  {
   "cell_type": "markdown",
   "id": "4f090053",
   "metadata": {},
   "source": [
    "### 3. 다음 뉴스 제목"
   ]
  },
  {
   "cell_type": "code",
   "execution_count": 33,
   "id": "040171fd",
   "metadata": {},
   "outputs": [],
   "source": [
    "# https://v.daum.net/v/20240520060022001\n",
    "# https://v.daum.net/v/20240520094402076\n",
    "# https://v.daum.net/v/20240520052002727\n",
    "\n",
    "def daum_news_title(new_id):\n",
    "    url = 'https://v.daum.net/v/{}'.format(new_id)\n",
    "    request = requests.get(url)\n",
    "    soup = BeautifulSoup(request.text)\n",
    "    title = soup.find('h3', {'class':'tit_view'})\n",
    "    if title:\n",
    "        return title.text.strip()\n",
    "    return '제목없음'"
   ]
  },
  {
   "cell_type": "code",
   "execution_count": 36,
   "id": "bd6bfebd",
   "metadata": {},
   "outputs": [
    {
     "name": "stdout",
     "output_type": "stream",
     "text": [
      "실전 배치 앞둔 레이저 무기...드론부터 전술핵까지 다 잡을 수 있나 [밀리터리 월드]\n",
      "\"전세사기 무서워\"…올해 전국 아파트 거래 비중 역대 최대\n",
      "\"옆 칸에 누가…\" 벽에 난 구멍만큼 심장 벌렁\n"
     ]
    }
   ],
   "source": [
    "print(daum_news_title(20240520060022001))\n",
    "print(daum_news_title(20240520094402076))\n",
    "print(daum_news_title(20240520052002727))"
   ]
  },
  {
   "cell_type": "markdown",
   "id": "c1fb8ec2",
   "metadata": {},
   "source": [
    "### 4. 벅스 뮤직 차트"
   ]
  },
  {
   "cell_type": "code",
   "execution_count": 37,
   "id": "e4a93efd",
   "metadata": {},
   "outputs": [],
   "source": [
    "# 1위 Supernova - aespa\n",
    "# 2위 해야 (HEYA) - IVE (아이브)"
   ]
  },
  {
   "cell_type": "code",
   "execution_count": 72,
   "id": "0eb66376",
   "metadata": {},
   "outputs": [],
   "source": [
    "url = 'https://music.bugs.co.kr/chart'\n",
    "request = requests.get(url)\n",
    "soup = BeautifulSoup(request.text)\n",
    "titles = soup.findAll('p', {'class':'title'})\n",
    "artists = soup.findAll('p', {'class':'artist'})"
   ]
  },
  {
   "cell_type": "code",
   "execution_count": 73,
   "id": "a1d6df47",
   "metadata": {},
   "outputs": [
    {
     "name": "stdout",
     "output_type": "stream",
     "text": [
      "  1위. Supernova - aespa\n",
      "  2위. 해야 (HEYA) - IVE (아이브)\n",
      "  3위. SPOT! (feat. JENNIE) - 지코 (ZICO)\n",
      "  4위. 소나기 - 이클립스 (ECLIPSE)\n",
      "  5위. 고민중독 - QWER\n",
      "  6위. Magnetic - 아일릿(ILLIT)\n",
      "  7위. 나는 아픈 건 딱 질색이니까 - (여자)아이들\n",
      "  8위. SHEESH - BABYMONSTER\n",
      "  9위. 첫 만남은 계획대로 되지 않아 - TWS (투어스)\n",
      " 10위. Accendio - IVE (아이브)\n",
      " 11위. Girls Never Die - tripleS (트리플에스)\n",
      " 12위. Welcome to the Show - DAY6 (데이식스)\n",
      " 13위. 미안해 미워해 사랑해 - Crush\n",
      " 14위. 한 페이지가 될 수 있게 - DAY6 (데이식스)\n",
      " 15위. Lucky Girl Syndrome - 아일릿(ILLIT)\n",
      " 16위. Run Run - 이클립스 (ECLIPSE)\n",
      " 17위. Midas Touch - KISS OF LIFE\n",
      " 18위. 밤양갱 - 비비(BIBI)\n",
      " 19위. 사랑과 우정사이 - 멜로망스(MeloMance)\n",
      " 20위. 에피소드 - 이무진\n",
      " 21위. MAESTRO - 세븐틴(SEVENTEEN)\n",
      " 22위. Hype Boy - NewJeans\n",
      " 23위. 그랬나봐 - 유회승 (엔플라잉)\n",
      " 24위. 예뻤어 - DAY6 (데이식스)\n",
      " 25위. ETA - NewJeans\n",
      " 26위. 천상연 - 이창섭\n",
      " 27위. Love wins all - 아이유(IU)\n",
      " 28위. Impossible - RIIZE\n",
      " 29위. Attention - NewJeans\n",
      " 30위. G.T.H.O. - PITTA (강형호)\n",
      " 31위. Ditto - NewJeans\n",
      " 32위. To. X - 태연 (TAEYEON)\n",
      " 33위. I AM - IVE (아이브)\n",
      " 34위. You & I - 이클립스 (ECLIPSE)\n",
      " 35위. Star - 엔플라잉(N.Flying)\n",
      " 36위. Siren - RIIZE\n",
      " 37위. Drama - aespa\n",
      " 38위. 만날테니까 - 이클립스 (ECLIPSE)\n",
      " 39위. 비의 랩소디 - 임재현\n",
      " 40위. Super Shy - NewJeans\n",
      " 41위. New Jeans - NewJeans\n",
      " 42위. EASY - LE SSERAFIM (르세라핌)\n",
      " 43위. OMG - NewJeans\n",
      " 44위. Smart - LE SSERAFIM (르세라핌)\n",
      " 45위. 봄눈 - 10CM\n",
      " 46위. Love 119 - RIIZE\n",
      " 47위. Discord - QWER\n",
      " 48위. 그대만 있다면 (여름날 우리 X 너드커넥션 (Nerd Connection)) - 너드커넥션(Nerd Connection)\n",
      " 49위. MANIAC - VIVIZ (비비지)\n",
      " 50위. I'll Be There - 이클립스 (ECLIPSE)\n",
      " 51위. HAPPY - DAY6 (데이식스)\n",
      " 52위. 홀씨 - 아이유(IU)\n",
      " 53위. Feel the POP - ZEROBASEONE (제로베이스원)\n",
      " 54위. 반딧불 (Little Light) - 도영 (DOYOUNG)\n",
      " 55위. Love me or Leave me - DAY6 (데이식스)\n",
      " 56위. Spicy - aespa\n",
      " 57위. By Your Side - Crush\n",
      " 58위. Perfect Night - LE SSERAFIM (르세라핌)\n",
      " 59위. Yes or No (Feat. 허윤진 of LE SSERAFIM, Crush) - 그루비룸 (GroovyRoom)\n",
      " 60위. 사랑인가 봐 - 멜로망스(MeloMance)\n",
      " 61위. 멈춰줘 - 헤이즈(Heize)\n",
      " 62위. Get A Guitar - RIIZE\n",
      " 63위. 꿈결같아서 - 민니 ((여자)아이들)\n",
      " 64위. 꿈 - 태연 (TAEYEON)\n",
      " 65위. 내 입술 따뜻한 커피처럼 - 조이 (JOY)\n",
      " 66위. 헤어지자 말해요 - 박재정\n",
      " 67위. 퀸카 (Queencard) - (여자)아이들\n",
      " 68위. After LIKE - IVE (아이브)\n",
      " 69위. Popcorn - 도경수(D.O.)\n",
      " 70위. 인사 - 범진\n",
      " 71위. Mars - 도경수(D.O.)\n",
      " 72위. 좋아해요 - 폴킴(Paul Kim)\n",
      " 73위. 사건의 지평선 - 윤하(Younha/ユンナ)\n",
      " 74위. 후라이의 꿈 - AKMU(악뮤)\n",
      " 75위. DASH - NMIXX\n",
      " 76위. Shopper - 아이유(IU)\n",
      " 77위. 그랬나봐 - 김형중\n",
      " 78위. Wife - (여자)아이들\n",
      " 79위. Dangerously - Charlie Puth(찰리 푸스)\n",
      " 80위. LOVE DIVE - IVE (아이브)\n",
      " 81위. 너의 모든 순간 - 성시경\n",
      " 82위. Love Lee - AKMU(악뮤)\n",
      " 83위. Steal The Show (From “엘리멘탈”) - Lauv(라우브)\n",
      " 84위. Seven (feat. Latto) - Clean Ver. - 정국\n",
      " 85위. 모든 날, 모든 순간 (Every day, Every Moment) - 폴킴(Paul Kim)\n",
      " 86위. 주저하는 연인들을 위해 - 잔나비\n",
      " 87위. 청춘찬가 - 세븐틴(SEVENTEEN)\n",
      " 88위. 자꾸만 웃게 돼 - 부석순(SEVENTEEN)\n",
      " 89위. I Don’t Think That I Like Her - Charlie Puth(찰리 푸스)\n",
      " 90위. Kitsch - IVE (아이브)\n",
      " 91위. 사랑은 늘 도망가 - 임영웅\n",
      " 92위. Wish You Hell - 웬디(WENDY)\n",
      " 93위. You & Me - 제니 (JENNIE)\n",
      " 94위. 숲 - 최유리\n",
      " 95위. 별 떨어진다 (I Do) - 도경수(D.O.)\n",
      " 96위. 관객이 될게 (I stan U) - 아이유(IU)\n",
      " 97위. Super Lady - (여자)아이들\n",
      " 98위. When I Get Old - Christopher(크리스토퍼)\n",
      " 99위. 건물 사이에 피어난 장미 (Rose Blossom) - H1-KEY (하이키)\n",
      "100위. Obsessed - Ayumu Imazu\n"
     ]
    }
   ],
   "source": [
    "for i, (t, a) in enumerate(zip(titles, artists)):\n",
    "    title = t.text.strip()\n",
    "    artist = a.text.strip().split('\\n')[0]\n",
    "    print('{0:3d}위. {1:s} - {2:s}'.format(i+1, title, artist))"
   ]
  },
  {
   "cell_type": "markdown",
   "id": "b3138a44",
   "metadata": {},
   "source": [
    "zip() 함수는 두 개의 반복 가능 객체 (예: 리스트)를 받아 튜플의 반복 가능 객체를 생성합니다.\n",
    "\n",
    "여기서는 titles와 artists 리스트의 요소를 해당 위치에서 결합하여 (title1, artist1), (title2, artist2)와 같은 튜플을 만듭니다.\n",
    "\n",
    "enumerate(): enumerate() 함수는 반복 가능 객체를 받아 enumerate 객체를 반환합니다.\n",
    "\n",
    "이 객체는 첫 번째 요소가 카운트(인덱스)이고 두 번째 요소가 반복 가능 객체의 값인 쌍을 생성합니다.\n",
    "\n",
    "기본적으로 zip()으로 생성된 각 튜플에 인덱스를 추가합니다."
   ]
  },
  {
   "cell_type": "markdown",
   "id": "1d5b1016",
   "metadata": {},
   "source": [
    "### 5. 멜론 차트"
   ]
  },
  {
   "cell_type": "code",
   "execution_count": 86,
   "id": "37ca6db1",
   "metadata": {},
   "outputs": [
    {
     "name": "stdout",
     "output_type": "stream",
     "text": [
      "<Response [406]>\n"
     ]
    }
   ],
   "source": [
    "url = 'https://www.melon.com/chart/index.htm'\n",
    "request = requests.get(url)\n",
    "print(request) # <Response [406]>"
   ]
  },
  {
   "cell_type": "markdown",
   "id": "20d7796f",
   "metadata": {},
   "source": [
    "- robots.txt: 웹 사이트에 크롤러같은 로봇들의 접근을 제어하기 위한 규약 (권고안)\n",
    "Allow (허용해주겠다)"
   ]
  },
  {
   "cell_type": "code",
   "execution_count": 88,
   "id": "3bda7e7b",
   "metadata": {},
   "outputs": [
    {
     "name": "stdout",
     "output_type": "stream",
     "text": [
      "<Response [200]>\n"
     ]
    }
   ],
   "source": [
    "# f12- network - index.htm - User-Agent:\n",
    "# Mozilla/5.0 (Macintosh; Intel Mac OS X 10_15_7)AppleWebKit/537.36 (KHTML, like Gecko)\n",
    "header = {'User-Agent' : 'Mozilla/5.0 (Macintosh; Intel Mac OS X 10_15_7)'}\n",
    "url = 'https://www.melon.com/chart/index.htm'\n",
    "request = requests.get(url, headers=header)\n",
    "print(request)"
   ]
  },
  {
   "cell_type": "code",
   "execution_count": 90,
   "id": "3f44337e",
   "metadata": {},
   "outputs": [],
   "source": [
    "soup = BeautifulSoup(request.text)"
   ]
  },
  {
   "cell_type": "code",
   "execution_count": 91,
   "id": "e05bdb7b",
   "metadata": {},
   "outputs": [],
   "source": [
    "titles = soup.findAll('div', {'class':'ellipsis rank01'})\n",
    "artists = soup.findAll('div', {'class':'ellipsis rank02'})"
   ]
  },
  {
   "cell_type": "code",
   "execution_count": 98,
   "id": "67b921fc",
   "metadata": {},
   "outputs": [
    {
     "name": "stdout",
     "output_type": "stream",
     "text": [
      "  1위. Supernova - aespa\n",
      "  2위. SPOT! (feat. JENNIE) - 지코 (ZICO)\n",
      "  3위. 해야 (HEYA) - IVE (아이브)\n",
      "  4위. Magnetic - 아일릿(ILLIT)\n",
      "  5위. 고민중독 - QWER\n",
      "  6위. 나는 아픈 건 딱 질색이니까 - (여자)아이들\n",
      "  7위. 미안해 미워해 사랑해 - Crush\n",
      "  8위. 소나기 - 이클립스 (ECLIPSE)\n",
      "  9위. 첫 만남은 계획대로 되지 않아 - TWS (투어스)\n",
      " 10위. 천상연 - 이창섭\n",
      " 11위. SHEESH - BABYMONSTER\n",
      " 12위. 사랑은 늘 도망가 - 임영웅\n",
      " 13위. 한 페이지가 될 수 있게 - DAY6 (데이식스)\n",
      " 14위. 예뻤어 - DAY6 (데이식스)\n",
      " 15위. 밤양갱 - 비비 (BIBI)\n",
      " 16위. 우리들의 블루스 - 임영웅\n",
      " 17위. 온기 - 임영웅\n",
      " 18위. Love wins all - 아이유\n",
      " 19위. 모래 알갱이 - 임영웅\n",
      " 20위. Home - 임영웅\n",
      " 21위. 다시 만날 수 있을까 - 임영웅\n",
      " 22위. MAESTRO - 세븐틴 (SEVENTEEN)\n",
      " 23위. Do or Die - 임영웅\n",
      " 24위. 이제 나만 믿어요 - 임영웅\n",
      " 25위. London Boy - 임영웅\n",
      " 26위. 무지개 - 임영웅\n",
      " 27위. 비의 랩소디 - 임재현\n",
      " 28위. 에피소드 - 이무진\n",
      " 29위. Polaroid - 임영웅\n",
      " 30위. 인생찬가 - 임영웅\n",
      " 31위. To. X - 태연 (TAEYEON)\n",
      " 32위. 연애편지 - 임영웅\n",
      " 33위. 그대만 있다면 (여름날 우리 X 너드커넥션 (Nerd Connection)) - 너드커넥션 (Nerd Connection)\n",
      " 34위. Hype Boy - NewJeans\n",
      " 35위. EASY - LE SSERAFIM (르세라핌)\n",
      " 36위. Seven (feat. Latto) - Clean Ver. - 정국\n",
      " 37위. Drama - aespa\n",
      " 38위. I AM - IVE (아이브)\n",
      " 39위. Welcome to the Show - DAY6 (데이식스)\n",
      " 40위. Smart - LE SSERAFIM (르세라핌)\n",
      " 41위. 보금자리 - 임영웅\n",
      " 42위. 헤어지자 말해요 - 박재정\n",
      " 43위. Lucky Girl Syndrome - 아일릿(ILLIT)\n",
      " 44위. ETA - NewJeans\n",
      " 45위. Super Shy - NewJeans\n",
      " 46위. WAY 4 LUV - PLAVE\n",
      " 47위. Love 119 - RIIZE\n",
      " 48위. Perfect Night - LE SSERAFIM (르세라핌)\n",
      " 49위. 사랑인가 봐 - 멜로망스\n",
      " 50위. 인사 - 범진\n",
      " 51위. 파이팅 해야지 (Feat. 이영지) - 부석순 (SEVENTEEN)\n",
      " 52위. Ditto - NewJeans\n",
      " 53위. Midas Touch - KISS OF LIFE\n",
      " 54위. 너의 모든 순간 - 성시경\n",
      " 55위. MANIAC - VIVIZ (비비지)\n",
      " 56위. Spicy - aespa\n",
      " 57위. 그랬나봐 - 유회승 (엔플라잉)\n",
      " 58위. 손오공 - 세븐틴 (SEVENTEEN)\n",
      " 59위. 사랑과 우정사이 - 멜로망스\n",
      " 60위. 슬픈 초대장 - 순순희 (지환)\n",
      " 61위. 홀씨 - 아이유\n",
      " 62위. 청춘찬가 - 세븐틴 (SEVENTEEN)\n",
      " 63위. 꿈 - 태연 (TAEYEON)\n",
      " 64위. 퀸카 (Queencard) - (여자)아이들\n",
      " 65위. 사막에서 꽃을 피우듯 - 우디 (Woody)\n",
      " 66위. Dynamite - 방탄소년단\n",
      " 67위. 우리 영화 - PLAVE\n",
      " 68위. 봄날 - 방탄소년단\n",
      " 69위. Impossible - RIIZE\n",
      " 70위. Attention - NewJeans\n",
      " 71위. Love Lee - AKMU (악뮤)\n",
      " 72위. Get A Guitar - RIIZE\n",
      " 73위. OMG - NewJeans\n",
      " 74위. 주저하는 연인들을 위해 - 잔나비\n",
      " 75위. From - PLAVE\n",
      " 76위. LOVE DIVE - IVE (아이브)\n",
      " 77위. Watch Me Woo! - PLAVE\n",
      " 78위. 사건의 지평선 - 윤하 (YOUNHA)\n",
      " 79위. 취중고백 - 김민석\n",
      " 80위. 버추얼 아이돌 - PLAVE\n",
      " 81위. Baddie - IVE (아이브)\n",
      " 82위. 모든 날, 모든 순간 (Every day, Every Moment) - 폴킴\n",
      " 83위. Accendio - IVE (아이브)\n",
      " 84위. Siren - RIIZE\n",
      " 85위. 어떻게 이별까지 사랑하겠어, 널 사랑하는 거지 - AKMU (악뮤)\n",
      " 86위. 잘 지내자, 우리 (여름날 우리 X 로이킴) - 로이킴\n",
      " 87위. I Don't Think That I Like Her - Charlie Puth\n",
      " 88위. 그대가 내 안에 박혔다(그내박) - 순순희(기태)\n",
      " 89위. 청혼하지 않을 이유를 못 찾았어 - 이무진\n",
      " 90위. 봄눈 - 10CM\n",
      " 91위. 다정히 내 이름을 부르면 - 경서예지, 전건호\n",
      " 92위. You & Me - 제니 (JENNIE)\n",
      " 93위. Super Lady - (여자)아이들\n",
      " 94위. 사랑하지 않아서 그랬어 - 임한별\n",
      " 95위. 심(心) - DK(디셈버)\n",
      " 96위. 음악의 신 - 세븐틴 (SEVENTEEN)\n",
      " 97위. Girls Never Die - tripleS (트리플에스)\n",
      " 98위. 혹시 세상에 혼자 남겨진 것 같다면 - 우디 (Woody)\n",
      " 99위. 멈춰줘 - 헤이즈 (Heize)\n",
      "100위. Kitsch - IVE (아이브)\n"
     ]
    }
   ],
   "source": [
    "for i, (t, a) in enumerate(zip(titles, artists)):\n",
    "    title = t.span.text.strip()\n",
    "    artist = a.span.text.strip()\n",
    "    print('{0:3d}위. {1:s} - {2:s}'.format(i+1, title, artist))"
   ]
  },
  {
   "cell_type": "markdown",
   "id": "52591d76",
   "metadata": {},
   "source": [
    "### 6. 네이버 증권"
   ]
  },
  {
   "cell_type": "code",
   "execution_count": 18,
   "id": "888cc6ed",
   "metadata": {},
   "outputs": [],
   "source": [
    "# https://finance.naver.com/item/main.naver?code=032800\n",
    "# https://finance.naver.com/item/main.naver?code=053950\n",
    "# 이름, 가격, 종목코드, 거래량\n",
    "# {'name':'경남제약', 'prcie':'1545', 'code':'053950', 'volume':'182872'}\n",
    "def naver_finance(code):\n",
    "    site = f'https://finance.naver.com/item/main.naver?code={code}'\n",
    "    request = requests.get(site)\n",
    "    soup = BeautifulSoup(request.text)    \n",
    "    div_totalinfo = soup.find('div', {'class':'new_totalinfo'})\n",
    "\n",
    "    # 이름\n",
    "    name = div_totalinfo.find('h2').text\n",
    "    # 가격\n",
    "    div_today = div_totalinfo.find('div', {'class':'today'})\n",
    "    price = div_today.find('span', {'class':'blind'}).text\n",
    "    # 코드\n",
    "    div_description = div_totalinfo.find('div', {'class':'description'})\n",
    "    code = div_description.find('span', {'class':'code'}).text\n",
    "    # 거래량\n",
    "    table_no_info = soup.find('table', {'class':'no_info'})\n",
    "    tds = table_no_info.findAll('td')\n",
    "    volume = tds[2].find('span', {'class':'blind'}).text\n",
    "    dic = {'name':name, 'code':code, 'price':price, 'volume':volume}\n",
    "    return dic"
   ]
  },
  {
   "cell_type": "code",
   "execution_count": 22,
   "id": "ecd622b3",
   "metadata": {},
   "outputs": [
    {
     "name": "stdout",
     "output_type": "stream",
     "text": [
      "{'name': '판타지오', 'code': '032800', 'price': '230', 'volume': '24,320,915'}\n",
      "{'name': '경남제약', 'code': '053950', 'price': '1,528', 'volume': '18,605,328'}\n"
     ]
    }
   ],
   "source": [
    "print(naver_finance('032800'))\n",
    "print(naver_finance('053950'))"
   ]
  },
  {
   "cell_type": "code",
   "execution_count": 23,
   "id": "59839a95",
   "metadata": {},
   "outputs": [
    {
     "name": "stdout",
     "output_type": "stream",
     "text": [
      "[{'name': '삼성전자', 'code': '005930', 'price': '78,400', 'volume': '10,206,373'}, {'name': 'SK하이닉스', 'code': '000660', 'price': '189,100', 'volume': '1,590,384'}, {'name': '현대차', 'code': '005380', 'price': '251,000', 'volume': '601,193'}, {'name': 'NAVER', 'code': '035420', 'price': '183,800', 'volume': '389,837'}, {'name': 'LG화학', 'code': '051910', 'price': '394,000', 'volume': '187,385'}]\n"
     ]
    }
   ],
   "source": [
    "codes = ['005930', '000660', '005380', '035420', '051910']\n",
    "data = []\n",
    "\n",
    "for code in codes:\n",
    "    dic = naver_finance(code)\n",
    "    data.append(dic)\n",
    "print(data)"
   ]
  },
  {
   "cell_type": "code",
   "execution_count": 24,
   "id": "4ca99127",
   "metadata": {},
   "outputs": [],
   "source": [
    "import pandas as pd"
   ]
  },
  {
   "cell_type": "code",
   "execution_count": 28,
   "id": "8668d5f3",
   "metadata": {},
   "outputs": [
    {
     "name": "stdout",
     "output_type": "stream",
     "text": [
      "Collecting openpyxl\n",
      "  Downloading openpyxl-3.1.2-py2.py3-none-any.whl.metadata (2.5 kB)\n",
      "Collecting et-xmlfile (from openpyxl)\n",
      "  Downloading et_xmlfile-1.1.0-py3-none-any.whl.metadata (1.8 kB)\n",
      "Downloading openpyxl-3.1.2-py2.py3-none-any.whl (249 kB)\n",
      "\u001b[2K   \u001b[90m━━━━━━━━━━━━━━━━━━━━━━━━━━━━━━━━━━━━━━━━\u001b[0m \u001b[32m250.0/250.0 kB\u001b[0m \u001b[31m2.4 MB/s\u001b[0m eta \u001b[36m0:00:00\u001b[0m \u001b[36m0:00:01\u001b[0m\n",
      "\u001b[?25hDownloading et_xmlfile-1.1.0-py3-none-any.whl (4.7 kB)\n",
      "Installing collected packages: et-xmlfile, openpyxl\n",
      "Successfully installed et-xmlfile-1.1.0 openpyxl-3.1.2\n"
     ]
    }
   ],
   "source": [
    "!pip install openpyxl"
   ]
  },
  {
   "cell_type": "code",
   "execution_count": 25,
   "id": "6b9c5a75",
   "metadata": {},
   "outputs": [
    {
     "data": {
      "text/html": [
       "<div>\n",
       "<style scoped>\n",
       "    .dataframe tbody tr th:only-of-type {\n",
       "        vertical-align: middle;\n",
       "    }\n",
       "\n",
       "    .dataframe tbody tr th {\n",
       "        vertical-align: top;\n",
       "    }\n",
       "\n",
       "    .dataframe thead th {\n",
       "        text-align: right;\n",
       "    }\n",
       "</style>\n",
       "<table border=\"1\" class=\"dataframe\">\n",
       "  <thead>\n",
       "    <tr style=\"text-align: right;\">\n",
       "      <th></th>\n",
       "      <th>name</th>\n",
       "      <th>code</th>\n",
       "      <th>price</th>\n",
       "      <th>volume</th>\n",
       "    </tr>\n",
       "  </thead>\n",
       "  <tbody>\n",
       "    <tr>\n",
       "      <th>0</th>\n",
       "      <td>삼성전자</td>\n",
       "      <td>005930</td>\n",
       "      <td>78,400</td>\n",
       "      <td>10,206,373</td>\n",
       "    </tr>\n",
       "    <tr>\n",
       "      <th>1</th>\n",
       "      <td>SK하이닉스</td>\n",
       "      <td>000660</td>\n",
       "      <td>189,100</td>\n",
       "      <td>1,590,384</td>\n",
       "    </tr>\n",
       "    <tr>\n",
       "      <th>2</th>\n",
       "      <td>현대차</td>\n",
       "      <td>005380</td>\n",
       "      <td>251,000</td>\n",
       "      <td>601,193</td>\n",
       "    </tr>\n",
       "    <tr>\n",
       "      <th>3</th>\n",
       "      <td>NAVER</td>\n",
       "      <td>035420</td>\n",
       "      <td>183,800</td>\n",
       "      <td>389,837</td>\n",
       "    </tr>\n",
       "    <tr>\n",
       "      <th>4</th>\n",
       "      <td>LG화학</td>\n",
       "      <td>051910</td>\n",
       "      <td>394,000</td>\n",
       "      <td>187,385</td>\n",
       "    </tr>\n",
       "  </tbody>\n",
       "</table>\n",
       "</div>"
      ],
      "text/plain": [
       "     name    code    price      volume\n",
       "0    삼성전자  005930   78,400  10,206,373\n",
       "1  SK하이닉스  000660  189,100   1,590,384\n",
       "2     현대차  005380  251,000     601,193\n",
       "3   NAVER  035420  183,800     389,837\n",
       "4    LG화학  051910  394,000     187,385"
      ]
     },
     "execution_count": 25,
     "metadata": {},
     "output_type": "execute_result"
    }
   ],
   "source": [
    "df = pd.DataFrame(data)\n",
    "df"
   ]
  },
  {
   "cell_type": "code",
   "execution_count": 29,
   "id": "b539f257",
   "metadata": {},
   "outputs": [],
   "source": [
    "df.to_excel('naver_finance.xlsx')"
   ]
  }
 ],
 "metadata": {
  "kernelspec": {
   "display_name": "Python 3 (ipykernel)",
   "language": "python",
   "name": "python3"
  },
  "language_info": {
   "codemirror_mode": {
    "name": "ipython",
    "version": 3
   },
   "file_extension": ".py",
   "mimetype": "text/x-python",
   "name": "python",
   "nbconvert_exporter": "python",
   "pygments_lexer": "ipython3",
   "version": "3.8.19"
  }
 },
 "nbformat": 4,
 "nbformat_minor": 5
}
